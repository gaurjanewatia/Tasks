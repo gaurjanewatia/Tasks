{
 "cells": [
  {
   "cell_type": "code",
   "execution_count": 1,
   "id": "8a77e750",
   "metadata": {},
   "outputs": [],
   "source": [
    "import pandas as pd"
   ]
  },
  {
   "cell_type": "code",
   "execution_count": 11,
   "id": "e7a4be6d",
   "metadata": {},
   "outputs": [],
   "source": [
    "Observed=[41,59]\n",
    "Expected=[33,67]"
   ]
  },
  {
   "cell_type": "code",
   "execution_count": 12,
   "id": "579e7108",
   "metadata": {},
   "outputs": [
    {
     "data": {
      "text/plain": [
       "[41, 59]"
      ]
     },
     "execution_count": 12,
     "metadata": {},
     "output_type": "execute_result"
    }
   ],
   "source": [
    "Observed"
   ]
  },
  {
   "cell_type": "code",
   "execution_count": 39,
   "id": "47f8026d",
   "metadata": {},
   "outputs": [
    {
     "data": {
      "text/html": [
       "<div>\n",
       "<style scoped>\n",
       "    .dataframe tbody tr th:only-of-type {\n",
       "        vertical-align: middle;\n",
       "    }\n",
       "\n",
       "    .dataframe tbody tr th {\n",
       "        vertical-align: top;\n",
       "    }\n",
       "\n",
       "    .dataframe thead th {\n",
       "        text-align: right;\n",
       "    }\n",
       "</style>\n",
       "<table border=\"1\" class=\"dataframe\">\n",
       "  <thead>\n",
       "    <tr style=\"text-align: right;\">\n",
       "      <th></th>\n",
       "      <th>Observed</th>\n",
       "      <th>Expected</th>\n",
       "    </tr>\n",
       "  </thead>\n",
       "  <tbody>\n",
       "    <tr>\n",
       "      <th>0</th>\n",
       "      <td>41</td>\n",
       "      <td>33</td>\n",
       "    </tr>\n",
       "    <tr>\n",
       "      <th>1</th>\n",
       "      <td>59</td>\n",
       "      <td>67</td>\n",
       "    </tr>\n",
       "  </tbody>\n",
       "</table>\n",
       "</div>"
      ],
      "text/plain": [
       "   Observed  Expected\n",
       "0        41        33\n",
       "1        59        67"
      ]
     },
     "execution_count": 39,
     "metadata": {},
     "output_type": "execute_result"
    }
   ],
   "source": [
    "df=pd.DataFrame(columns={'Observed','Expected'})\n",
    "df['Observed']=[41,59]\n",
    "df['Expected']=[33,67]\n",
    "df"
   ]
  },
  {
   "cell_type": "code",
   "execution_count": 40,
   "id": "f295d723",
   "metadata": {},
   "outputs": [],
   "source": [
    "##Null Hypothesis : No significant difference between observed and expected.\n",
    "## Alternative Hypothesis : Significant difference between observed and expected.\n"
   ]
  },
  {
   "cell_type": "code",
   "execution_count": 41,
   "id": "4983084f",
   "metadata": {},
   "outputs": [
    {
     "data": {
      "text/html": [
       "<div>\n",
       "<style scoped>\n",
       "    .dataframe tbody tr th:only-of-type {\n",
       "        vertical-align: middle;\n",
       "    }\n",
       "\n",
       "    .dataframe tbody tr th {\n",
       "        vertical-align: top;\n",
       "    }\n",
       "\n",
       "    .dataframe thead th {\n",
       "        text-align: right;\n",
       "    }\n",
       "</style>\n",
       "<table border=\"1\" class=\"dataframe\">\n",
       "  <thead>\n",
       "    <tr style=\"text-align: right;\">\n",
       "      <th></th>\n",
       "      <th>Observed</th>\n",
       "      <th>Expected</th>\n",
       "      <th>d</th>\n",
       "    </tr>\n",
       "  </thead>\n",
       "  <tbody>\n",
       "    <tr>\n",
       "      <th>0</th>\n",
       "      <td>41</td>\n",
       "      <td>33</td>\n",
       "      <td>8</td>\n",
       "    </tr>\n",
       "    <tr>\n",
       "      <th>1</th>\n",
       "      <td>59</td>\n",
       "      <td>67</td>\n",
       "      <td>-8</td>\n",
       "    </tr>\n",
       "  </tbody>\n",
       "</table>\n",
       "</div>"
      ],
      "text/plain": [
       "   Observed  Expected  d\n",
       "0        41        33  8\n",
       "1        59        67 -8"
      ]
     },
     "execution_count": 41,
     "metadata": {},
     "output_type": "execute_result"
    }
   ],
   "source": [
    "df['d']=df['Observed']-df['Expected']\n",
    "df\n"
   ]
  },
  {
   "cell_type": "code",
   "execution_count": 42,
   "id": "ab786716",
   "metadata": {},
   "outputs": [
    {
     "data": {
      "text/plain": [
       "2.8946178199909545"
      ]
     },
     "execution_count": 42,
     "metadata": {},
     "output_type": "execute_result"
    }
   ],
   "source": [
    "Chi_Square=sum(df[\"d\"]**2/df[\"Expected\"])\n",
    "Chi_Square"
   ]
  },
  {
   "cell_type": "code",
   "execution_count": 43,
   "id": "b8964c4f",
   "metadata": {},
   "outputs": [],
   "source": [
    "Dof=len(df.index)-2"
   ]
  },
  {
   "cell_type": "code",
   "execution_count": 44,
   "id": "a1c2874e",
   "metadata": {},
   "outputs": [
    {
     "data": {
      "text/plain": [
       "0.3052651445190301"
      ]
     },
     "execution_count": 44,
     "metadata": {},
     "output_type": "execute_result"
    }
   ],
   "source": [
    "x=[[41,33],[59,67]]\n",
    "\n",
    "p1=list(chi2_contingency(x))\n",
    "\n",
    "p_value=p1[1]\n",
    "p_value\n",
    " "
   ]
  },
  {
   "cell_type": "code",
   "execution_count": 46,
   "id": "33534c9d",
   "metadata": {},
   "outputs": [
    {
     "name": "stdout",
     "output_type": "stream",
     "text": [
      "ACCEPT NULL HYPOTHESIS\n"
     ]
    }
   ],
   "source": [
    "significance_level = 0.05\n",
    "if p_value <= significance_level: \n",
    "    print('Reject NULL HYPOTHESIS') \n",
    "else: \n",
    "    print('ACCEPT NULL HYPOTHESIS')"
   ]
  },
  {
   "cell_type": "code",
   "execution_count": null,
   "id": "e4c0aa37",
   "metadata": {},
   "outputs": [],
   "source": []
  }
 ],
 "metadata": {
  "kernelspec": {
   "display_name": "Python 3 (ipykernel)",
   "language": "python",
   "name": "python3"
  },
  "language_info": {
   "codemirror_mode": {
    "name": "ipython",
    "version": 3
   },
   "file_extension": ".py",
   "mimetype": "text/x-python",
   "name": "python",
   "nbconvert_exporter": "python",
   "pygments_lexer": "ipython3",
   "version": "3.9.12"
  }
 },
 "nbformat": 4,
 "nbformat_minor": 5
}
