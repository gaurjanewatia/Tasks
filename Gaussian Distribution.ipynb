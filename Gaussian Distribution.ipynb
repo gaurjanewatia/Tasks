{
 "cells": [
  {
   "cell_type": "code",
   "execution_count": 5,
   "id": "d9e7d2c1",
   "metadata": {},
   "outputs": [],
   "source": [
    "import numpy as np\n",
    "import pandas as pd"
   ]
  },
  {
   "cell_type": "code",
   "execution_count": 9,
   "id": "951c2869",
   "metadata": {},
   "outputs": [],
   "source": [
    "df=pd.DataFrame(np.random.normal(size=(2,3)))"
   ]
  },
  {
   "cell_type": "code",
   "execution_count": 10,
   "id": "1b9f0ea9",
   "metadata": {},
   "outputs": [],
   "source": [
    "df.to_csv('df.csv')"
   ]
  },
  {
   "cell_type": "code",
   "execution_count": null,
   "id": "76cfbc27",
   "metadata": {},
   "outputs": [],
   "source": []
  }
 ],
 "metadata": {
  "kernelspec": {
   "display_name": "Python 3 (ipykernel)",
   "language": "python",
   "name": "python3"
  },
  "language_info": {
   "codemirror_mode": {
    "name": "ipython",
    "version": 3
   },
   "file_extension": ".py",
   "mimetype": "text/x-python",
   "name": "python",
   "nbconvert_exporter": "python",
   "pygments_lexer": "ipython3",
   "version": "3.9.12"
  }
 },
 "nbformat": 4,
 "nbformat_minor": 5
}
