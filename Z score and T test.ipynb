{
 "cells": [
  {
   "cell_type": "code",
   "execution_count": 22,
   "id": "c1aead82",
   "metadata": {},
   "outputs": [],
   "source": [
    "import numpy as np\n",
    "import pandas as pd\n",
    "from scipy import stats\n",
    "from math import sqrt"
   ]
  },
  {
   "cell_type": "code",
   "execution_count": 16,
   "id": "a24ba0f6",
   "metadata": {},
   "outputs": [],
   "source": [
    "df=np.random.normal(size=(2,3))\n",
    "df1=pd.DataFrame(df)"
   ]
  },
  {
   "cell_type": "code",
   "execution_count": 17,
   "id": "f1dfdbd9",
   "metadata": {},
   "outputs": [],
   "source": [
    "df1.to_csv('df1.csv')"
   ]
  },
  {
   "cell_type": "code",
   "execution_count": 19,
   "id": "38770847",
   "metadata": {},
   "outputs": [
    {
     "data": {
      "text/plain": [
       "array([[0.60999898, 1.12147517, 0.30912517],\n",
       "       [0.31396299, 0.68160179, 2.51337631]])"
      ]
     },
     "execution_count": 19,
     "metadata": {},
     "output_type": "execute_result"
    }
   ],
   "source": [
    "df"
   ]
  },
  {
   "cell_type": "code",
   "execution_count": 32,
   "id": "39eea34b",
   "metadata": {},
   "outputs": [
    {
     "data": {
      "text/plain": [
       "array([-0.20934533,  1.31592446, -1.10657912])"
      ]
     },
     "execution_count": 32,
     "metadata": {},
     "output_type": "execute_result"
    }
   ],
   "source": [
    "\n",
    "stats.zscore(df[0])\n"
   ]
  },
  {
   "cell_type": "code",
   "execution_count": 33,
   "id": "f3fda928",
   "metadata": {},
   "outputs": [
    {
     "data": {
      "text/plain": [
       "array([-0.88953897, -0.50735463,  1.39689359])"
      ]
     },
     "execution_count": 33,
     "metadata": {},
     "output_type": "execute_result"
    }
   ],
   "source": [
    "\n",
    "stats.zscore(df[1])"
   ]
  },
  {
   "cell_type": "code",
   "execution_count": 30,
   "id": "cd7b77c0",
   "metadata": {},
   "outputs": [
    {
     "data": {
      "text/plain": [
       "-1.9599639845400545"
      ]
     },
     "execution_count": 30,
     "metadata": {},
     "output_type": "execute_result"
    }
   ],
   "source": [
    "p=0.025\n",
    "stats.norm.ppf(p)\n"
   ]
  },
  {
   "cell_type": "code",
   "execution_count": 36,
   "id": "fcb90c3d",
   "metadata": {},
   "outputs": [
    {
     "name": "stdout",
     "output_type": "stream",
     "text": [
      "[32 34 29 29 22 39 38 37 38 36 30 26 22 22]\n",
      "31.0\n",
      "p-values 0.5605155888171379\n",
      "we do not reject null hypothesis\n"
     ]
    }
   ],
   "source": [
    "#10 ages and you are checking whether avg age is 30 or not.\n",
    "#H0: The average age is 30\n",
    "#H1: The average age is not 30.\n",
    "ages = np.array([32,34,29,29,22,39,38,37,38,36,30,26,22,22])\n",
    "print(ages)\n",
    "#mean of the age \n",
    "ages_mean = np.mean(ages)\n",
    "print(ages_mean)\n",
    "#One Sample t-test\n",
    "tset, pval = stats.ttest_1samp(ages, 30)\n",
    "print('p-values',pval)\n",
    "if pval < 0.05:    # alpha value is 0.05 or 5%\n",
    "   print(\" we are rejecting null hypothesis\")\n",
    "else:\n",
    "  print(\"we do not reject null hypothesis\")\n"
   ]
  },
  {
   "cell_type": "code",
   "execution_count": null,
   "id": "93f9336f",
   "metadata": {},
   "outputs": [],
   "source": []
  }
 ],
 "metadata": {
  "kernelspec": {
   "display_name": "Python 3 (ipykernel)",
   "language": "python",
   "name": "python3"
  },
  "language_info": {
   "codemirror_mode": {
    "name": "ipython",
    "version": 3
   },
   "file_extension": ".py",
   "mimetype": "text/x-python",
   "name": "python",
   "nbconvert_exporter": "python",
   "pygments_lexer": "ipython3",
   "version": "3.9.12"
  }
 },
 "nbformat": 4,
 "nbformat_minor": 5
}
